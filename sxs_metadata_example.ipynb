{
 "cells": [
  {
   "cell_type": "markdown",
   "metadata": {},
   "source": [
    "# sxs_metadata_example.ipynb"
   ]
  },
  {
   "cell_type": "markdown",
   "metadata": {},
   "source": [
    "This notebook demonstrates how to use the `sxs` python library to interact with the SXS Catalog and its metadata on zenodo. The catalog is available at https://black-holes.org/waveforms and is described in https://arxiv.org/abs/1904.04831. \n",
    "\n",
    "This notebook produces the same output as `GetURLsForCatalogJSON.ipynb` and `ParseCatalogJson.ipynb`, but much faster and more easily.\n",
    "\n",
    "Specifically, it creates a dictionary containing the Zenodo metadata for every simulation in the public SXS Catalog. The metadata is placed in a dictionary called `catalog_json`, whose keys are SXS ID numbers (e.g. `SXS:BBH:0444`)."
   ]
  },
  {
   "cell_type": "code",
   "execution_count": 1,
   "metadata": {},
   "outputs": [],
   "source": [
    "import sxs\n",
    "from sxs import zenodo as zen\n",
    "import json\n",
    "import datetime\n",
    "import numpy as np"
   ]
  },
  {
   "cell_type": "markdown",
   "metadata": {},
   "source": [
    "This cell sends a single zenodo search query to find all public SXS simulations. It takes minutes, whereas directly sending a query for each piece of metadata as in `GetURLsForCatalogJSON.ipynb` takes closer to an hour."
   ]
  },
  {
   "cell_type": "code",
   "execution_count": null,
   "metadata": {},
   "outputs": [],
   "source": [
    "%%time\n",
    "md = zen.api.Records.search(q='communities:sxs AND access_right:open')"
   ]
  },
  {
   "cell_type": "markdown",
   "metadata": {},
   "source": [
    "The search returns a list of json files. Here loop over each returned result. Make sure that the title of the page ends in an SXS ID by checking that splitting the last word of the title by `:` returns 3 elements. Then, if the type is `BBH`, add the key and metadata to a dictionary."
   ]
  },
  {
   "cell_type": "code",
   "execution_count": null,
   "metadata": {},
   "outputs": [],
   "source": [
    "catalog_json = {}\n",
    "for simulation in md:\n",
    "    sxs_id = simulation['title'].split(' ')[-1]\n",
    "    if (len(sxs_id.split(':')) == 3):\n",
    "        if (sxs_id.split(':')[-2] == 'BBH'):\n",
    "            catalog_json[sxs_id] = simulation"
   ]
  },
  {
   "cell_type": "code",
   "execution_count": null,
   "metadata": {},
   "outputs": [],
   "source": [
    "with open(\"sxs_catalog_zen.json\", 'w') as file:\n",
    "    file.write(json.dumps(catalog_json))"
   ]
  },
  {
   "cell_type": "code",
   "execution_count": null,
   "metadata": {},
   "outputs": [],
   "source": [
    "print(\"There are \" + str(len(catalog_json.keys())) + \" BBH simulations in the catalog.\")"
   ]
  },
  {
   "cell_type": "code",
   "execution_count": null,
   "metadata": {},
   "outputs": [],
   "source": [
    "def resolutions_for_simulation(sxs_id):\n",
    "    resolutions = []\n",
    "    files = catalog_json[sxs_id]['files']\n",
    "    for file in files:\n",
    "        split_filename = file['filename'].split('/')\n",
    "        if (str(split_filename[-1]) == \"Horizons.h5\"):\n",
    "            resolutions.append(int(split_filename[-2].split('Lev')[-1]))\n",
    "    return sorted(resolutions)"
   ]
  },
  {
   "cell_type": "code",
   "execution_count": null,
   "metadata": {},
   "outputs": [],
   "source": [
    "resolutions_available = {}\n",
    "for simulation in catalog_json:\n",
    "    resolutions_available[simulation] = resolutions_for_simulation(simulation)\n",
    "    \n",
    "with open(\"sxs_catalog_zen_resolutions_available.json\", 'w') as file:\n",
    "    file.write(json.dumps(resolutions_available))"
   ]
  },
  {
   "cell_type": "markdown",
   "metadata": {},
   "source": [
    "## Available metadata"
   ]
  },
  {
   "cell_type": "markdown",
   "metadata": {},
   "source": [
    "Here are the available metadata keys for a given simulation."
   ]
  },
  {
   "cell_type": "code",
   "execution_count": null,
   "metadata": {},
   "outputs": [],
   "source": [
    "catalog_json['SXS:BBH:0444'].keys()"
   ]
  },
  {
   "cell_type": "markdown",
   "metadata": {},
   "source": [
    "Here is an example metadata record. The `files` key is a dictionary containing filenames, checksums, and download links to each file for the simulation. You can retrieve a file individually, e.g., using the `requests` library in python, although you can more easily download data using the `sxs` library (see the `sxs_catalog_download_example` notebook)."
   ]
  },
  {
   "cell_type": "code",
   "execution_count": null,
   "metadata": {},
   "outputs": [],
   "source": [
    "catalog_json['SXS:BBH:0444']"
   ]
  },
  {
   "cell_type": "markdown",
   "metadata": {},
   "source": [
    "Here are some functions that can translate the Zenoda dates into python datetime objects. In this example, we print out a table of simulations, sorted by modification date."
   ]
  },
  {
   "cell_type": "code",
   "execution_count": null,
   "metadata": {},
   "outputs": [],
   "source": [
    "def datetime_from_zenodo_datetime(zenodo_datetime):\n",
    "    return datetime.datetime.strptime(zenodo_datetime.split('+')[0], \"%Y-%m-%dT%H:%M:%S.%f\")\n",
    "\n",
    "def date_from_zenodo_date(zenodo_date):\n",
    "    return datetime.datetime.strptime(zenodo_date, \"%Y-%m-%d\")"
   ]
  },
  {
   "cell_type": "code",
   "execution_count": null,
   "metadata": {},
   "outputs": [],
   "source": [
    "# Read basic info from the metadata.\n",
    "simulations_list = []\n",
    "modified_list = []\n",
    "published_list = []\n",
    "urls_list = []\n",
    "names_list = []\n",
    "for simulation in sorted(catalog_json.keys()):\n",
    "    simulations_list.append(simulation)\n",
    "    modified_list.append(datetime_from_zenodo_datetime(catalog_json[simulation]['modified']))\n",
    "    published_list.append(date_from_zenodo_date(catalog_json[simulation]['metadata']['publication_date']))\n",
    "    urls_list.append(catalog_json[simulation]['links']['latest_html'])\n",
    "    names_list.append(catalog_json[simulation]['metadata']['title'].split(' ')[-1])\n",
    "simulations = np.array(simulations_list)\n",
    "modified = np.array(modified_list)\n",
    "published = np.array(published_list)\n",
    "urls = np.array(urls_list)\n",
    "names = np.array(names_list)\n",
    "  "
   ]
  },
  {
   "cell_type": "code",
   "execution_count": null,
   "metadata": {},
   "outputs": [],
   "source": [
    "sort_by = modified\n",
    "for i,simulation in enumerate(simulations[np.argsort(sort_by)]):\n",
    "    print(simulations[np.argsort(sort_by)][i] + \"    \" + str(modified[np.argsort(sort_by)][i]) + \"    \" \\\n",
    "          + str(published[np.argsort(sort_by)][i]) + \"    \" + str(urls[np.argsort(sort_by)][i]))"
   ]
  },
  {
   "cell_type": "code",
   "execution_count": null,
   "metadata": {},
   "outputs": [],
   "source": []
  }
 ],
 "metadata": {
  "kernelspec": {
   "display_name": "Python 3",
   "language": "python",
   "name": "python3"
  },
  "language_info": {
   "codemirror_mode": {
    "name": "ipython",
    "version": 3
   },
   "file_extension": ".py",
   "mimetype": "text/x-python",
   "name": "python",
   "nbconvert_exporter": "python",
   "pygments_lexer": "ipython3",
   "version": "3.6.5"
  }
 },
 "nbformat": 4,
 "nbformat_minor": 2
}
