{
 "cells": [
  {
   "cell_type": "markdown",
   "metadata": {},
   "source": [
    "# GetURLsForCatalogJSON.ipynb"
   ]
  },
  {
   "cell_type": "markdown",
   "metadata": {},
   "source": [
    "This notebook demonstrates how to read the file `catalog.json`, downloadable by clicking `Download complete table data` from https://data.black-holes.org/waveforms/catalog.html, how to get the DOI for each simulation in that file, and how to query Zenodo for its metadata for each DOI. \n",
    "\n",
    "This notebook writes each zenodo metadata file to a file.\n",
    "\n",
    "NOTE: this notebook is primarily educational, to show how one can directly interact with zenodo. See the notebook `sxs_example.ipynb` for how to do this using the `sxs` python module much faster and more simply."
   ]
  },
  {
   "cell_type": "code",
   "execution_count": null,
   "metadata": {},
   "outputs": [],
   "source": [
    "import json\n",
    "import requests\n",
    "import os\n",
    "import numpy as np"
   ]
  },
  {
   "cell_type": "markdown",
   "metadata": {},
   "source": [
    "# Read in the file from black-holes.org/waveforms"
   ]
  },
  {
   "cell_type": "code",
   "execution_count": null,
   "metadata": {},
   "outputs": [],
   "source": [
    "with open('catalog.json') as catalog_file:  \n",
    "    catalog_json = json.load(catalog_file)"
   ]
  },
  {
   "cell_type": "markdown",
   "metadata": {},
   "source": [
    "Get the DOI and name of each simulation in the catalog file."
   ]
  },
  {
   "cell_type": "code",
   "execution_count": null,
   "metadata": {},
   "outputs": [],
   "source": [
    "simulation_name_list = []\n",
    "simulation_doi_list = []\n",
    "for simulation in catalog_json:\n",
    "    if (str(simulation['name']).split(':')[1] == 'BBH'):\n",
    "        simulation_name_list.append(simulation['name'])\n",
    "        simulation_doi_list.append(simulation['url'])\n",
    "print(str(len(simulation_doi_list))+\" simulations in catalog\")"
   ]
  },
  {
   "cell_type": "markdown",
   "metadata": {},
   "source": [
    "Here's an example of how to resolve a DOI into json containing list of files into a bibtex reference."
   ]
  },
  {
   "cell_type": "code",
   "execution_count": null,
   "metadata": {},
   "outputs": [],
   "source": [
    "request = requests.get(simulation_doi_list[444], headers={'accept': 'application/x-bibtex'})\n",
    "request.text"
   ]
  },
  {
   "cell_type": "markdown",
   "metadata": {},
   "source": [
    "# Get zenodo json file for each simulation in the catalog"
   ]
  },
  {
   "cell_type": "markdown",
   "metadata": {},
   "source": [
    "This function gets Zenodo metadata, stored in json format, from a DOI."
   ]
  },
  {
   "cell_type": "code",
   "execution_count": null,
   "metadata": {},
   "outputs": [],
   "source": [
    "def get_zenodo_json(doi):\n",
    "    request = requests.get(doi, headers={'accept': 'application/citeproc+json'})\n",
    "    base_url = request.json()['URL']\n",
    "    record = base_url.split('/')[-1] #gets the record number, which is the last part of a zenodo URL\n",
    "    json_url = \"https://zenodo.org/api/records/\"+record\n",
    "    request = requests.get(json_url, headers={'accept': 'application/json'})\n",
    "    record_json = request.json()\n",
    "    return record_json"
   ]
  },
  {
   "cell_type": "markdown",
   "metadata": {},
   "source": [
    "This makes a directory and loops over all DOIs, saving each one to a file."
   ]
  },
  {
   "cell_type": "code",
   "execution_count": null,
   "metadata": {},
   "outputs": [],
   "source": [
    "os.mkdir(\"catalog_json\")"
   ]
  },
  {
   "cell_type": "code",
   "execution_count": null,
   "metadata": {},
   "outputs": [],
   "source": [
    "zenodo_json_all_simulations = {}\n",
    "for i,name in enumerate(simulation_name_list):\n",
    "    doi = simulation_doi_list[i]\n",
    "    print(name + \" -- \" + doi)\n",
    "    zenodo_json_all_simulations[name] = get_zenodo_json(doi)\n",
    "    with open(\"catalog_json/\"+name.replace(\":\",\"_\")+\".json\", 'w') as outfile:\n",
    "        json.dump(zenodo_json_all_simulations[name], outfile)"
   ]
  },
  {
   "cell_type": "code",
   "execution_count": null,
   "metadata": {},
   "outputs": [],
   "source": []
  }
 ],
 "metadata": {
  "kernelspec": {
   "display_name": "Python 3",
   "language": "python",
   "name": "python3"
  },
  "language_info": {
   "codemirror_mode": {
    "name": "ipython",
    "version": 3
   },
   "file_extension": ".py",
   "mimetype": "text/x-python",
   "name": "python",
   "nbconvert_exporter": "python",
   "pygments_lexer": "ipython3",
   "version": "3.6.5"
  }
 },
 "nbformat": 4,
 "nbformat_minor": 2
}
