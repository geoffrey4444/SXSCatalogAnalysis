{
 "cells": [
  {
   "cell_type": "code",
   "execution_count": 1,
   "metadata": {},
   "outputs": [],
   "source": [
    "import h5py\n",
    "import numpy as np\n",
    "from matplotlib import pyplot as plt\n",
    "from scipy import optimize"
   ]
  },
  {
   "cell_type": "code",
   "execution_count": 2,
   "metadata": {},
   "outputs": [],
   "source": [
    "# Install romspline if necessary\n",
    "# !git clone https://bitbucket.org/chadgalley/romspline\n",
    "    \n",
    "import romspline"
   ]
  },
  {
   "cell_type": "code",
   "execution_count": 3,
   "metadata": {},
   "outputs": [],
   "source": [
    "# If needed, download SXS_BBH_2264_Res5.h5 from a copy Geoffrey put on github\n",
    "# !wget https://github.com/geoffrey4444/SXSCatalogExamples/raw/master/SXS_BBH_2264_Res5.h5"
   ]
  },
  {
   "cell_type": "code",
   "execution_count": 4,
   "metadata": {},
   "outputs": [],
   "source": [
    "# Read splines for omega (orbital frequency)\n",
    "spline_omega = romspline.ReducedOrderSpline()\n",
    "omega_vs_time = spline_omega.read(\"SXS_BBH_2264_Res5.h5\", \"Omega-vs-time\")\n",
    "\n",
    "# Read splines for positions and spins\n",
    "spline_omega = romspline.ReducedOrderSpline()\n",
    "omega_vs_time = spline_omega.read(\"SXS_BBH_2264_Res5.h5\", \"Omega-vs-time\")\n",
    "\n",
    "spline_spin1x = romspline.ReducedOrderSpline()\n",
    "spline_spin1y = romspline.ReducedOrderSpline()\n",
    "spline_spin1z = romspline.ReducedOrderSpline()\n",
    "spin1x_vs_time = spline_spin1x.read(\"SXS_BBH_2264_Res5.h5\", \"spin1x-vs-time\")\n",
    "spin1y_vs_time = spline_spin1y.read(\"SXS_BBH_2264_Res5.h5\", \"spin1y-vs-time\")\n",
    "spin1z_vs_time = spline_spin1z.read(\"SXS_BBH_2264_Res5.h5\", \"spin1z-vs-time\")\n",
    "\n",
    "spline_spin2x = romspline.ReducedOrderSpline()\n",
    "spline_spin2y = romspline.ReducedOrderSpline()\n",
    "spline_spin2z = romspline.ReducedOrderSpline()\n",
    "spin2x_vs_time = spline_spin2x.read(\"SXS_BBH_2264_Res5.h5\", \"spin2x-vs-time\")\n",
    "spin2y_vs_time = spline_spin2y.read(\"SXS_BBH_2264_Res5.h5\", \"spin2y-vs-time\")\n",
    "spin2z_vs_time = spline_spin2z.read(\"SXS_BBH_2264_Res5.h5\", \"spin2z-vs-time\")\n",
    "\n",
    "spline_position1x = romspline.ReducedOrderSpline()\n",
    "spline_position1y = romspline.ReducedOrderSpline()\n",
    "spline_position1z = romspline.ReducedOrderSpline()\n",
    "position1x_vs_time = spline_position1x.read(\"SXS_BBH_2264_Res5.h5\", \"position1x-vs-time\")\n",
    "position1y_vs_time = spline_position1y.read(\"SXS_BBH_2264_Res5.h5\", \"position1y-vs-time\")\n",
    "position1z_vs_time = spline_position1z.read(\"SXS_BBH_2264_Res5.h5\", \"position1z-vs-time\")\n",
    "\n",
    "spline_position2x = romspline.ReducedOrderSpline()\n",
    "spline_position2y = romspline.ReducedOrderSpline()\n",
    "spline_position2z = romspline.ReducedOrderSpline()\n",
    "position2x_vs_time = spline_position2x.read(\"SXS_BBH_2264_Res5.h5\", \"position2x-vs-time\")\n",
    "position2y_vs_time = spline_position2y.read(\"SXS_BBH_2264_Res5.h5\", \"position2y-vs-time\")\n",
    "position2z_vs_time = spline_position2z.read(\"SXS_BBH_2264_Res5.h5\", \"position2z-vs-time\")\n",
    "\n",
    "# Get the time when omega = 0.022\n",
    "def omega_vs_target(time):\n",
    "    return float(spline_omega(time)) - 0.022\n",
    "time_of_target_omega = optimize.root_scalar(omega_vs_target, x0=spline_omega.X[5], x1=spline_omega.X[4]).root\n",
    "\n",
    "# Get positions and spins at this time\n",
    "x1 = np.array([float(spline_position1x(time_of_target_omega)),\n",
    "      float(spline_position1y(time_of_target_omega)),\n",
    "      float(spline_position1z(time_of_target_omega))])\n",
    "x2 = np.array([float(spline_position2x(time_of_target_omega)),\n",
    "      float(spline_position2y(time_of_target_omega)),\n",
    "      float(spline_position2z(time_of_target_omega))])\n",
    "spin1 = np.array([float(spline_spin1x(time_of_target_omega)),\n",
    "      float(spline_spin1y(time_of_target_omega)),\n",
    "      float(spline_spin1z(time_of_target_omega))])\n",
    "spin2 = np.array([float(spline_spin2x(time_of_target_omega)),\n",
    "      float(spline_spin2y(time_of_target_omega)),\n",
    "      float(spline_spin2z(time_of_target_omega))])"
   ]
  },
  {
   "cell_type": "code",
   "execution_count": 5,
   "metadata": {},
   "outputs": [],
   "source": [
    "separation = x2-x1\n",
    "unit_separation_vector = separation / np.sqrt(np.dot(separation, separation))\n",
    "unit_spin1 = spin1 / np.sqrt(np.dot(spin1,spin1))"
   ]
  },
  {
   "cell_type": "code",
   "execution_count": 6,
   "metadata": {},
   "outputs": [
    {
     "name": "stdout",
     "output_type": "stream",
     "text": [
      "Time: -2254.700766294441\n",
      "Orbital frequency: 0.02200000000000001\n",
      "Separation unit vector: [-0.90677308  0.42071834 -0.02754393]\n",
      "Spin unit vector of larger hole: [-0.99548079  0.09427497  0.01141187]\n",
      "Angle between spin, separation vectors (degrees): 19.605702779288322\n"
     ]
    }
   ],
   "source": [
    "print(\"Time: \"+str(time_of_target_omega))\n",
    "print(\"Orbital frequency: \"+str(spline_omega(time_of_target_omega)))\n",
    "print(\"Separation unit vector: \"+str(unit_separation_vector))\n",
    "print(\"Spin unit vector of larger hole: \"+str(unit_spin1))\n",
    "print(\"Angle between spin, separation vectors (degrees): \"+str((180.0/np.pi) * np.arccos(np.dot(unit_separation_vector, unit_spin1))))"
   ]
  },
  {
   "cell_type": "code",
   "execution_count": 20,
   "metadata": {},
   "outputs": [
    {
     "name": "stdout",
     "output_type": "stream",
     "text": [
      "Angle of separation vector and -x axis: 24.93684430945592\n",
      "Angle of spin1 vector and -x axis: 5.449199288236929\n",
      "Angle between separation vector and spin1 vector (x-y components only): -19.48764502121899\n"
     ]
    }
   ],
   "source": [
    "angle_spin1_vector_and_minux_x_axis = (180.0/np.pi)*np.arccos(np.dot(unit_spin1,(-1,0,0)))\n",
    "angle_separation_vector_and_minux_x_axis = (180.0/np.pi)*np.arccos(np.dot(unit_separation_vector,(-1,0,0)))\n",
    "print(\"Angle of separation vector and -x axis: \"+str(angle_separation_vector_and_minux_x_axis))\n",
    "print(\"Angle of spin1 vector and -x axis: \"+str(angle_spin1_vector_and_minux_x_axis))\n",
    "print(\"Angle between separation vector and spin1 vector (x-y components only): \"+str(angle_spin1_vector_and_minux_x_axis-angle_separation_vector_and_minux_x_axis))"
   ]
  },
  {
   "cell_type": "code",
   "execution_count": null,
   "metadata": {},
   "outputs": [],
   "source": []
  }
 ],
 "metadata": {
  "kernelspec": {
   "display_name": "ligo-py27",
   "language": "python",
   "name": "ligo-py27"
  },
  "language_info": {
   "codemirror_mode": {
    "name": "ipython",
    "version": 2
   },
   "file_extension": ".py",
   "mimetype": "text/x-python",
   "name": "python",
   "nbconvert_exporter": "python",
   "pygments_lexer": "ipython2",
   "version": "2.7.15"
  }
 },
 "nbformat": 4,
 "nbformat_minor": 4
}
