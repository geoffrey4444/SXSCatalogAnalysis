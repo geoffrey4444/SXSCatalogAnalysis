{
 "cells": [
  {
   "cell_type": "markdown",
   "metadata": {},
   "source": [
    "# sxs_arxiv_metadata_example.ipynb"
   ]
  },
  {
   "cell_type": "markdown",
   "metadata": {},
   "source": [
    "This notebook demonstrates how to download and parse the metadata provided with the arXiv paper describing our catalog. The paper is at https://arxiv.org/abs/1904.04831."
   ]
  },
  {
   "cell_type": "markdown",
   "metadata": {},
   "source": [
    "First, download the latest version of the ancilliary JSON file."
   ]
  },
  {
   "cell_type": "code",
   "execution_count": 1,
   "metadata": {},
   "outputs": [],
   "source": [
    "import requests\n",
    "import json\n",
    "import numpy as np\n",
    "from matplotlib import pyplot as plt"
   ]
  },
  {
   "cell_type": "code",
   "execution_count": 2,
   "metadata": {},
   "outputs": [],
   "source": [
    "request = requests.get(\"https://arxiv.org/src/1904.04831/anc/sxs_catalog.json\", headers={'accept': 'application/citeproc+json'})\n",
    "sxs_catalog_json = request.json()"
   ]
  },
  {
   "cell_type": "markdown",
   "metadata": {},
   "source": [
    "These are the available keys for each simulation."
   ]
  },
  {
   "cell_type": "code",
   "execution_count": 3,
   "metadata": {},
   "outputs": [
    {
     "data": {
      "text/plain": [
       "dict_keys(['url', 'simulation_name', 'alternative_names', 'initial_data_type', 'object_types', 'number_of_orbits', 'relaxed_mass_ratio', 'relaxed_chi_eff', 'relaxed_chi1_perp', 'relaxed_chi2_perp', 'relaxed_eccentricity', 'relaxed_dimensionless_spin1', 'relaxed_dimensionless_spin2', 'relaxed_orbital_frequency', 'relaxed_mass1', 'relaxed_mass2', 'relaxed_measurement_time', 'relaxed_position1', 'relaxed_position2', 'relaxed_mean_anomaly', 'keywords', 'point_of_contact_email', 'authors_emails', 'simulation_bibtex_keys', 'code_bibtex_keys', 'initial_data_bibtex_keys', 'quasicircular_bibtex_keys', 'initial_separation', 'initial_orbital_frequency', 'initial_adot', 'object1', 'object2', 'initial_ADM_energy', 'initial_ADM_linear_momentum', 'initial_ADM_angular_momentum', 'initial_mass1', 'initial_mass2', 'initial_dimensionless_spin1', 'initial_dimensionless_spin2', 'initial_position1', 'initial_position2', 'common_horizon_time', 'remnant_mass', 'remnant_dimensionless_spin', 'remnant_velocity', 'spec_revisions', 'spells_revision', 'initial_mass_ratio'])"
      ]
     },
     "execution_count": 3,
     "metadata": {},
     "output_type": "execute_result"
    }
   ],
   "source": [
    "sxs_catalog_json['SXS:BBH:0444'].keys()"
   ]
  },
  {
   "cell_type": "markdown",
   "metadata": {},
   "source": [
    "Here's an example of processing the metadata: find the N simulations with mass ratio closest to a desired value."
   ]
  },
  {
   "cell_type": "code",
   "execution_count": null,
   "metadata": {},
   "outputs": [],
   "source": [
    "desired_mass_ratio = 4.444\n",
    "N = 4\n",
    "\n",
    "sxs_ids = np.array(sorted(list(sxs_catalog_json.keys())))\n",
    "mass_ratios_list = []\n",
    "for sxs_id in sxs_ids:\n",
    "    mass_ratios_list.append(sxs_catalog_json[sxs_id]['relaxed_mass_ratio'])\n",
    "mass_ratios = np.array(mass_ratios_list)\n",
    "\n",
    "mass_ratio_residual_sort = np.argsort(np.abs(mass_ratios - desired_mass_ratio))\n",
    "\n",
    "closest_N_simulations = sxs_ids[mass_ratio_residual_sort][:N]\n",
    "closest_N_massratios = mass_ratios[mass_ratio_residual_sort][:N]\n",
    "print(closest_N_simulations)\n",
    "print(closest_N_massratios)"
   ]
  },
  {
   "cell_type": "markdown",
   "metadata": {},
   "source": [
    "Make a plot of mass ratio vs. chi_eff for all available simulations."
   ]
  },
  {
   "cell_type": "code",
   "execution_count": null,
   "metadata": {},
   "outputs": [],
   "source": [
    "chieff_list = []\n",
    "for sxs_id in sxs_ids:\n",
    "    chieff_list.append(sxs_catalog_json[sxs_id]['relaxed_chi_eff'])\n",
    "chieff = np.array(chieff_list)"
   ]
  },
  {
   "cell_type": "code",
   "execution_count": null,
   "metadata": {},
   "outputs": [],
   "source": [
    "plt.clf()\n",
    "plt.plot(mass_ratios, chieff, marker='o', linestyle='', markersize=1.0)\n",
    "plt.xlabel(\"Mass ratio\")\n",
    "plt.ylabel(\"$\\chi_{eff}$\")\n",
    "plt.show()"
   ]
  },
  {
   "cell_type": "code",
   "execution_count": null,
   "metadata": {},
   "outputs": [],
   "source": []
  }
 ],
 "metadata": {
  "kernelspec": {
   "display_name": "Python 3",
   "language": "python",
   "name": "python3"
  },
  "language_info": {
   "codemirror_mode": {
    "name": "ipython",
    "version": 3
   },
   "file_extension": ".py",
   "mimetype": "text/x-python",
   "name": "python",
   "nbconvert_exporter": "python",
   "pygments_lexer": "ipython3",
   "version": "3.6.8"
  }
 },
 "nbformat": 4,
 "nbformat_minor": 2
}
