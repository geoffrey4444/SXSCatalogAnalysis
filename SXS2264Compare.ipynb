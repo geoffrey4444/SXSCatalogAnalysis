{
  "nbformat": 4,
  "nbformat_minor": 0,
  "metadata": {
    "colab": {
      "name": "SXS2264Compare.ipynb",
      "provenance": [],
      "collapsed_sections": []
    },
    "kernelspec": {
      "name": "python3",
      "display_name": "Python 3"
    }
  },
  "cells": [
    {
      "cell_type": "code",
      "metadata": {
        "id": "J-l9Kz9phPs0",
        "colab_type": "code",
        "colab": {
          "base_uri": "https://localhost:8080/",
          "height": 72
        },
        "outputId": "a5764b67-83a4-4883-bd12-dca997bf0007"
      },
      "source": [
        "# Install libraries we need\n",
        "!pip install numpy\n",
        "!pip install scipy\n",
        "!pip install matplotlib\n",
        "!pip install h5py\n",
        "\n",
        "# Install romspline\n",
        "!git clone https://bitbucket.org/chadgalley/romspline\n",
        "\n",
        "# Download SXS_BBH_2264_Res5.h5 from a copy Geoffrey put on github\n",
        "# !wget https://github.com/geoffrey4444/SXSCatalogExamples/raw/master/SXS_BBH_2264_Res5.h5"
      ],
      "execution_count": 14,
      "outputs": [
        {
          "output_type": "stream",
          "text": [
            "fatal: destination path 'romspline' already exists and is not an empty directory.\n",
            "\u001b[31mERROR: File \"setup.py\" not found. Directory cannot be installed in editable mode: /content/romspline\u001b[0m\n"
          ],
          "name": "stdout"
        }
      ]
    },
    {
      "cell_type": "code",
      "metadata": {
        "id": "W3etK4xXh2Eq",
        "colab_type": "code",
        "colab": {}
      },
      "source": [
        "import romspline\n",
        "import h5py\n",
        "import numpy as np\n",
        "from matplotlib import pyplot as plt\n",
        "\n",
        "spline = romspline.ReducedOrderSpline()\n",
        "omega_vs_time = spline.read(\"SXS_BBH_2264_Res5.h5\", \"Omega-vs-time\")"
      ],
      "execution_count": 0,
      "outputs": []
    }
  ]
}