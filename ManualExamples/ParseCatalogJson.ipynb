{
 "cells": [
  {
   "cell_type": "markdown",
   "metadata": {},
   "source": [
    "# ParseCatalogJson.ipynb"
   ]
  },
  {
   "cell_type": "markdown",
   "metadata": {},
   "source": [
    "This notebook assumes you have a directory containing Zenodo json files for simulations in the catalog. It then reads them in and saves them into a single JSON file. It also saves an auxiliary convenience JSON file containing which resolutions are available for each simulation in the catalog."
   ]
  },
  {
   "cell_type": "code",
   "execution_count": null,
   "metadata": {},
   "outputs": [],
   "source": [
    "import json\n",
    "import datetime\n",
    "import os\n",
    "import numpy as np"
   ]
  },
  {
   "cell_type": "code",
   "execution_count": null,
   "metadata": {},
   "outputs": [],
   "source": [
    "# Run this to join all the downloaded json files and save the result.\n",
    "catalog_json = {}\n",
    "for file in os.listdir(os.fsencode('catalog_json/')):\n",
    "    sxs_id = file.decode('utf-8').split('.')[0].replace('_',':')\n",
    "    with open(\"catalog_json/\"+file.decode('utf-8'), 'r') as file:\n",
    "        catalog_json[sxs_id] = json.load(file)\n",
    "with open(\"sxs_catalog_public.json\", 'w') as file:\n",
    "    file.write(json.dumps(catalog_json))\n",
    "print(\"There are \" + str(len(catalog_json.keys())) + \" simulations in the catalog.\")"
   ]
  },
  {
   "cell_type": "code",
   "execution_count": null,
   "metadata": {},
   "outputs": [],
   "source": [
    "def resolutions_for_simulation(sxs_id):\n",
    "    resolutions = []\n",
    "    files = catalog_json[sxs_id]['files']\n",
    "    for file in files:\n",
    "        split_filename = file['filename'].split('/')\n",
    "        if (str(split_filename[-1]) == \"Horizons.h5\"):\n",
    "            resolutions.append(int(split_filename[-2].split('Lev')[-1]))\n",
    "    return sorted(resolutions)"
   ]
  },
  {
   "cell_type": "code",
   "execution_count": null,
   "metadata": {},
   "outputs": [],
   "source": [
    "resolutions_available = {}\n",
    "for simulation in catalog_json:\n",
    "    resolutions_available[simulation] = resolutions_for_simulation(simulation)"
   ]
  },
  {
   "cell_type": "code",
   "execution_count": null,
   "metadata": {},
   "outputs": [],
   "source": [
    "with open(\"sxs_catalog_public_resolutions_available.json\", 'w') as file:\n",
    "    file.write(json.dumps(resolutions_available))"
   ]
  }
 ],
 "metadata": {
  "kernelspec": {
   "display_name": "Python 3",
   "language": "python",
   "name": "python3"
  },
  "language_info": {
   "codemirror_mode": {
    "name": "ipython",
    "version": 3
   },
   "file_extension": ".py",
   "mimetype": "text/x-python",
   "name": "python",
   "nbconvert_exporter": "python",
   "pygments_lexer": "ipython3",
   "version": "3.6.5"
  }
 },
 "nbformat": 4,
 "nbformat_minor": 2
}
