{
 "cells": [
  {
   "cell_type": "markdown",
   "metadata": {},
   "source": [
    "# sxs_eample.ipynb"
   ]
  },
  {
   "cell_type": "markdown",
   "metadata": {},
   "source": [
    "This notebook demonstrates how to use the `sxs` python library to interact with the SXS Catalog and its metadata on zenodo. It produces the same output as `GetURLsForCatalogJSON.ipynb` and `ParseCatalogJson.ipynb`, but much faster and more easily."
   ]
  },
  {
   "cell_type": "code",
   "execution_count": null,
   "metadata": {},
   "outputs": [],
   "source": [
    "import sxs\n",
    "from sxs import zenodo as zen\n",
    "import json"
   ]
  },
  {
   "cell_type": "markdown",
   "metadata": {},
   "source": [
    "This cell sends a single zenodo search query to find all public SXS simulations. It takes minutes, whereas directly sending a query for each piece of metadata as in `GetURLsForCatalogJSON.ipynb` takes closer to an hour."
   ]
  },
  {
   "cell_type": "code",
   "execution_count": null,
   "metadata": {},
   "outputs": [],
   "source": [
    "%%time\n",
    "md = zen.api.Records.search(q='communities:sxs AND access_right:open')"
   ]
  },
  {
   "cell_type": "markdown",
   "metadata": {},
   "source": [
    "The search returns a list of json files. Here loop over each returned result. Make sure that the title of the page ends in an SXS ID by checking that splitting the last word of the title by `:` returns 3 elements. Then, if the type is `BBH`, add the key and metadata to a dictionary."
   ]
  },
  {
   "cell_type": "code",
   "execution_count": null,
   "metadata": {},
   "outputs": [],
   "source": [
    "catalog_json = {}\n",
    "for simulation in md:\n",
    "    sxs_id = simulation['title'].split(' ')[-1]\n",
    "    if (len(sxs_id.split(':')) == 3):\n",
    "        if (sxs_id.split(':')[-2] == 'BBH'):\n",
    "            catalog_json[sxs_id] = simulation"
   ]
  },
  {
   "cell_type": "code",
   "execution_count": null,
   "metadata": {},
   "outputs": [],
   "source": [
    "with open(\"sxs_catalog_zen.json\", 'w') as file:\n",
    "    file.write(json.dumps(catalog_json))"
   ]
  },
  {
   "cell_type": "code",
   "execution_count": null,
   "metadata": {},
   "outputs": [],
   "source": [
    "print(\"There are \" + str(len(catalog_json.keys())) + \" BBH simulations in the catalog.\")"
   ]
  },
  {
   "cell_type": "code",
   "execution_count": null,
   "metadata": {},
   "outputs": [],
   "source": [
    "def resolutions_for_simulation(sxs_id):\n",
    "    resolutions = []\n",
    "    files = catalog_json[sxs_id]['files']\n",
    "    for file in files:\n",
    "        split_filename = file['filename'].split('/')\n",
    "        if (str(split_filename[-1]) == \"Horizons.h5\"):\n",
    "            resolutions.append(int(split_filename[-2].split('Lev')[-1]))\n",
    "    return sorted(resolutions)"
   ]
  },
  {
   "cell_type": "code",
   "execution_count": null,
   "metadata": {},
   "outputs": [],
   "source": [
    "resolutions_available = {}\n",
    "for simulation in catalog_json:\n",
    "    resolutions_available[simulation] = resolutions_for_simulation(simulation)\n",
    "    \n",
    "with open(\"sxs_catalog_zen_resolutions_available.json\", 'w') as file:\n",
    "    file.write(json.dumps(resolutions_available))"
   ]
  }
 ],
 "metadata": {
  "kernelspec": {
   "display_name": "Python 3",
   "language": "python",
   "name": "python3"
  },
  "language_info": {
   "codemirror_mode": {
    "name": "ipython",
    "version": 3
   },
   "file_extension": ".py",
   "mimetype": "text/x-python",
   "name": "python",
   "nbconvert_exporter": "python",
   "pygments_lexer": "ipython3",
   "version": "3.6.5"
  }
 },
 "nbformat": 4,
 "nbformat_minor": 2
}
